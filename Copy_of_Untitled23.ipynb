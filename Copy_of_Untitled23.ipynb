{
  "nbformat": 4,
  "nbformat_minor": 0,
  "metadata": {
    "colab": {
      "name": "Copy of Untitled23.ipynb",
      "provenance": [],
      "authorship_tag": "ABX9TyPa+0AbCx0axqizvjMbRHsX",
      "include_colab_link": true
    },
    "kernelspec": {
      "name": "python3",
      "display_name": "Python 3"
    },
    "language_info": {
      "name": "python"
    }
  },
  "cells": [
    {
      "cell_type": "markdown",
      "metadata": {
        "id": "view-in-github",
        "colab_type": "text"
      },
      "source": [
        "<a href=\"https://colab.research.google.com/github/nelakavya/CalendarTutorialAndroidStudio/blob/master/Copy_of_Untitled23.ipynb\" target=\"_parent\"><img src=\"https://colab.research.google.com/assets/colab-badge.svg\" alt=\"Open In Colab\"/></a>"
      ]
    },
    {
      "cell_type": "markdown",
      "metadata": {
        "id": "WdbmoZzOoDzq"
      },
      "source": [
        "\n",
        "1.Write a program that has multiple except blocks and except : handler.(catch all )\n"
      ]
    },
    {
      "cell_type": "code",
      "metadata": {
        "colab": {
          "base_uri": "https://localhost:8080/"
        },
        "id": "ZbPA5bx8oI-e",
        "outputId": "b2637026-56dd-4a86-a3b6-661ef6d45e30"
      },
      "source": [
        "#Python - Multiple except blocks with one try block\n",
        "\n",
        "try:\n",
        "    #Creating a list in Python\n",
        "    arr = [1,2,3,4]\n",
        "\n",
        "    #trying to access an invalid 5th index in a list, hence IndexError Exception\n",
        "    print('value = ',arr[5])\n",
        "\t\n",
        "#except block to catch ArithmeticError exception\t\n",
        "except ArithmeticError as e:    \n",
        "    print('ArithmeticError exception caught - ',e)\n",
        "\n",
        "#except block to catch IndexError exception\n",
        "except IndexError as e:   \t\n",
        "    print('IndexError exception caught -',e)\n",
        "\t\n",
        "#except block to catch Exception exception\n",
        "except Exception as e:\t\n",
        "    print('Exception exception caught - ',e)\n",
        "\t\n",
        "\n"
      ],
      "execution_count": null,
      "outputs": [
        {
          "output_type": "stream",
          "text": [
            "IndexError exception caught - list index out of range\n"
          ],
          "name": "stdout"
        }
      ]
    },
    {
      "cell_type": "markdown",
      "metadata": {
        "id": "IRTsH7BTpNNU"
      },
      "source": [
        "2.Write a program that re-raises an exception and raises an exception of class type. \n"
      ]
    },
    {
      "cell_type": "code",
      "metadata": {
        "colab": {
          "base_uri": "https://localhost:8080/"
        },
        "id": "hdODp8NHpS3F",
        "outputId": "c95a0826-1c79-4bbc-8fee-88791842386b"
      },
      "source": [
        "def checkForDivisibilityBy2():\n",
        "     x = int(input('Please enter a even number: '))\n",
        "     if ( x % 2 != 0 ):\n",
        "         raise ValueError('Input is an odd number, cannot continue Execution')\n",
        "     else:\n",
        "         print('The entered number is divisible by 2')\n",
        "\n",
        "try:\n",
        "     checkForDivisibilityBy2()\n",
        "except ValueError as err:\n",
        "     print (str(err))"
      ],
      "execution_count": null,
      "outputs": [
        {
          "output_type": "stream",
          "text": [
            "Please enter a even number: 9\n",
            "Input is an odd number, cannot continue Execution\n"
          ],
          "name": "stdout"
        }
      ]
    },
    {
      "cell_type": "markdown",
      "metadata": {
        "id": "ZR0qv6KHs94C"
      },
      "source": [
        "4.Write a program that raises at least two exceptions from a class.\n"
      ]
    },
    {
      "cell_type": "code",
      "metadata": {
        "colab": {
          "base_uri": "https://localhost:8080/"
        },
        "id": "ag_oj634tPfx",
        "outputId": "7fc5a0d9-7d37-425d-b4f6-785651b32843"
      },
      "source": [
        "def reRaiseException():\n",
        "     try:\n",
        "         raise ValueError('I am raising a value error for no reason')\n",
        "     except ValueError as err:\n",
        "         print('reRaiseException(): ', str(err))\n",
        "         print ('Re-Raising the exception to the calling code')\n",
        "         raise\n",
        "try:\n",
        "     reRaiseException()\n",
        "except ValueError as error:\n",
        "     print('Main code: ', str(error))"
      ],
      "execution_count": null,
      "outputs": [
        {
          "output_type": "stream",
          "text": [
            "reRaiseException():  I am raising a value error for no reason\n",
            "Re-Raising the exception to the calling code\n",
            "Main code:  I am raising a value error for no reason\n"
          ],
          "name": "stdout"
        }
      ]
    },
    {
      "cell_type": "markdown",
      "metadata": {
        "id": "PR0m-WDytYon"
      },
      "source": [
        "3.Write a program in which an exception raised by one function is handled by another function."
      ]
    },
    {
      "cell_type": "code",
      "metadata": {
        "colab": {
          "base_uri": "https://localhost:8080/",
          "height": 421
        },
        "id": "tKzo_4DTtkc1",
        "outputId": "c1f82722-0c32-4661-a38b-41ef531cd8db"
      },
      "source": [
        "def example2():\n",
        "    try:\n",
        "        int('N/A')\n",
        "    except ValueError as e:\n",
        "        print(\"Couldn't parse:\", err)\n",
        "  \n",
        "example2()"
      ],
      "execution_count": null,
      "outputs": [
        {
          "output_type": "error",
          "ename": "NameError",
          "evalue": "ignored",
          "traceback": [
            "\u001b[0;31m---------------------------------------------------------------------------\u001b[0m",
            "\u001b[0;31mValueError\u001b[0m                                Traceback (most recent call last)",
            "\u001b[0;32m<ipython-input-2-e3f424cd7fa1>\u001b[0m in \u001b[0;36mexample2\u001b[0;34m()\u001b[0m\n\u001b[1;32m      2\u001b[0m     \u001b[0;32mtry\u001b[0m\u001b[0;34m:\u001b[0m\u001b[0;34m\u001b[0m\u001b[0;34m\u001b[0m\u001b[0m\n\u001b[0;32m----> 3\u001b[0;31m         \u001b[0mint\u001b[0m\u001b[0;34m(\u001b[0m\u001b[0;34m'N/A'\u001b[0m\u001b[0;34m)\u001b[0m\u001b[0;34m\u001b[0m\u001b[0;34m\u001b[0m\u001b[0m\n\u001b[0m\u001b[1;32m      4\u001b[0m     \u001b[0;32mexcept\u001b[0m \u001b[0mValueError\u001b[0m \u001b[0;32mas\u001b[0m \u001b[0me\u001b[0m\u001b[0;34m:\u001b[0m\u001b[0;34m\u001b[0m\u001b[0;34m\u001b[0m\u001b[0m\n",
            "\u001b[0;31mValueError\u001b[0m: invalid literal for int() with base 10: 'N/A'",
            "\nDuring handling of the above exception, another exception occurred:\n",
            "\u001b[0;31mNameError\u001b[0m                                 Traceback (most recent call last)",
            "\u001b[0;32m<ipython-input-2-e3f424cd7fa1>\u001b[0m in \u001b[0;36m<module>\u001b[0;34m()\u001b[0m\n\u001b[1;32m      5\u001b[0m         \u001b[0mprint\u001b[0m\u001b[0;34m(\u001b[0m\u001b[0;34m\"Couldn't parse:\"\u001b[0m\u001b[0;34m,\u001b[0m \u001b[0merr\u001b[0m\u001b[0;34m)\u001b[0m\u001b[0;34m\u001b[0m\u001b[0;34m\u001b[0m\u001b[0m\n\u001b[1;32m      6\u001b[0m \u001b[0;34m\u001b[0m\u001b[0m\n\u001b[0;32m----> 7\u001b[0;31m \u001b[0mexample2\u001b[0m\u001b[0;34m(\u001b[0m\u001b[0;34m)\u001b[0m\u001b[0;34m\u001b[0m\u001b[0;34m\u001b[0m\u001b[0m\n\u001b[0m",
            "\u001b[0;32m<ipython-input-2-e3f424cd7fa1>\u001b[0m in \u001b[0;36mexample2\u001b[0;34m()\u001b[0m\n\u001b[1;32m      3\u001b[0m         \u001b[0mint\u001b[0m\u001b[0;34m(\u001b[0m\u001b[0;34m'N/A'\u001b[0m\u001b[0;34m)\u001b[0m\u001b[0;34m\u001b[0m\u001b[0;34m\u001b[0m\u001b[0m\n\u001b[1;32m      4\u001b[0m     \u001b[0;32mexcept\u001b[0m \u001b[0mValueError\u001b[0m \u001b[0;32mas\u001b[0m \u001b[0me\u001b[0m\u001b[0;34m:\u001b[0m\u001b[0;34m\u001b[0m\u001b[0;34m\u001b[0m\u001b[0m\n\u001b[0;32m----> 5\u001b[0;31m         \u001b[0mprint\u001b[0m\u001b[0;34m(\u001b[0m\u001b[0;34m\"Couldn't parse:\"\u001b[0m\u001b[0;34m,\u001b[0m \u001b[0merr\u001b[0m\u001b[0;34m)\u001b[0m\u001b[0;34m\u001b[0m\u001b[0;34m\u001b[0m\u001b[0m\n\u001b[0m\u001b[1;32m      6\u001b[0m \u001b[0;34m\u001b[0m\u001b[0m\n\u001b[1;32m      7\u001b[0m \u001b[0mexample2\u001b[0m\u001b[0;34m(\u001b[0m\u001b[0;34m)\u001b[0m\u001b[0;34m\u001b[0m\u001b[0;34m\u001b[0m\u001b[0m\n",
            "\u001b[0;31mNameError\u001b[0m: name 'err' is not defined"
          ]
        }
      ]
    },
    {
      "cell_type": "markdown",
      "metadata": {
        "id": "K8oOhwNztlbp"
      },
      "source": [
        "5.Write a program that overloads the /= operator in FRACTION class. Throw an exception if a divide by zero exception occurs.\n"
      ]
    },
    {
      "cell_type": "code",
      "metadata": {
        "colab": {
          "base_uri": "https://localhost:8080/"
        },
        "id": "WFjlxR3stqwO",
        "outputId": "e517f562-e0c9-4d8e-ead4-91f28668a721"
      },
      "source": [
        "def stack1(numb):                     # 1\n",
        "    div = 0                                                     # 2\n",
        "    stack2(numb, div)                                # 3\n",
        "\n",
        "def stack2(numb, div):                            # 5\n",
        "    try:                                                           # 6\n",
        "        compute = numb/div                      # 7\n",
        "        print(compute)                                 # 8\n",
        "    except ZeroDivisionError as zde:     # 9\n",
        "        print(zde)                                          # 10\n",
        "    \n",
        "if __name__ == '__main__':             # 12  \n",
        "    numb = 5                                              # 13\n",
        "    stack1(numb)                                       # 14\n",
        "    print(\"program continuous\")    "
      ],
      "execution_count": null,
      "outputs": [
        {
          "output_type": "stream",
          "text": [
            "division by zero\n",
            "program continuous\n"
          ],
          "name": "stdout"
        }
      ]
    },
    {
      "cell_type": "markdown",
      "metadata": {
        "id": "iYM8Wo1_trqg"
      },
      "source": [
        "6.Write a program that overloads the -= and /= operators in COMPLEX class. The program must throw an exception if a divide by zero exception occurs or if the real parts of the two objects are zero.\n"
      ]
    },
    {
      "cell_type": "code",
      "metadata": {
        "colab": {
          "base_uri": "https://localhost:8080/"
        },
        "id": "qdhCb8sNtwZZ",
        "outputId": "9a03d112-2c82-4704-9fca-529248c904ea"
      },
      "source": [
        "try:\n",
        "    (1+2j)/0\n",
        "except ZeroDivisionError as e:\n",
        "    print(e)"
      ],
      "execution_count": null,
      "outputs": [
        {
          "output_type": "stream",
          "text": [
            "complex division by zero\n"
          ],
          "name": "stdout"
        }
      ]
    },
    {
      "cell_type": "markdown",
      "metadata": {
        "id": "BJ0cjVPMtwxi"
      },
      "source": [
        "7.write a program using try-except-except (catch all) - else- and finally block your own example."
      ]
    },
    {
      "cell_type": "code",
      "metadata": {
        "colab": {
          "base_uri": "https://localhost:8080/"
        },
        "id": "YoZBDcA7t0Xj",
        "outputId": "d5dbf481-8103-4f0e-cb72-57a8ba346cff"
      },
      "source": [
        "x=input('enter any string : ')\n",
        "y=input('enter another string : ')\n",
        "try:\n",
        "    print(x+y)\n",
        "    print(x/y)\n",
        "except TypeError:\n",
        "    print('error!string divison cannot be performed')\n",
        "except KeyboardInterrupt:\n",
        "    print('enter strings only')\n",
        "else:\n",
        "    print('else block')\n",
        "finally:\n",
        "    print('finally block')"
      ],
      "execution_count": null,
      "outputs": [
        {
          "output_type": "stream",
          "text": [
            "enter any string : kav\n",
            "enter another string : in\n",
            "kavin\n",
            "error!string divison cannot be performed\n",
            "finally block\n"
          ],
          "name": "stdout"
        }
      ]
    },
    {
      "cell_type": "markdown",
      "metadata": {
        "id": "XW_kDkQzt0lb"
      },
      "source": [
        "8write a program to show the use of assertion error in function and custom exception(user-defined exception)\n",
        "."
      ]
    },
    {
      "cell_type": "code",
      "metadata": {
        "colab": {
          "base_uri": "https://localhost:8080/"
        },
        "id": "HeHoWKoGt46z",
        "outputId": "e0ccb512-c920-4a2d-9730-a6c97372684a"
      },
      "source": [
        "try: \n",
        " n1 = int(input(\"enter first number\\n\")) \n",
        " n2 = int(input(\"enter second number\\n\")) \n",
        " if(n1<n2):\n",
        "     raise AssertionError\n",
        "except(AssertionError): \n",
        " print(\"you have entered first number smaller than second number\\n\") \n",
        "else: \n",
        " print(\"you have entered correctly\")"
      ],
      "execution_count": null,
      "outputs": [
        {
          "output_type": "stream",
          "text": [
            "enter first number\n",
            "2\n",
            "enter second number\n",
            "0\n",
            "you have entered correctly\n"
          ],
          "name": "stdout"
        }
      ]
    }
  ]
}